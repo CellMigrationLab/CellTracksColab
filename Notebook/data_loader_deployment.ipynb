{
 "cells": [
  {
   "cell_type": "code",
   "execution_count": 13,
   "id": "8e6d0e93-2e81-4a23-b1b5-c40841a45b54",
   "metadata": {},
   "outputs": [
    {
     "name": "stdout",
     "output_type": "stream",
     "text": [
      "/Users/esti/Documents/PROYECTOS/CELLTRACKS/Tracks\n",
      "/Users/esti/Documents/PROYECTOS/CELLTRACKS/Results\n",
      "None\n",
      "None\n"
     ]
    },
    {
     "data": {
      "application/vnd.jupyter.widget-view+json": {
       "model_id": "1576158a543849a29d98a60b6086f696",
       "version_major": 2,
       "version_minor": 0
      },
      "text/plain": [
       "Processing Files:   0%|          | 0/11 [00:00<?, ?it/s]"
      ]
     },
     "metadata": {},
     "output_type": "display_data"
    },
    {
     "name": "stdout",
     "output_type": "stream",
     "text": [
      "Warning: Mismatch in total rows. Expected 42215, found 42226 in the merged dataframe.\n",
      "Tracking data loaded in memory.\n"
     ]
    },
    {
     "data": {
      "application/vnd.jupyter.widget-view+json": {
       "model_id": "964c030bb6424239a916c94644515084",
       "version_major": 2,
       "version_minor": 0
      },
      "text/plain": [
       "Saving Spots:   0%|          | 0/42226 [00:00<?, ?rows/s]"
      ]
     },
     "metadata": {},
     "output_type": "display_data"
    },
    {
     "name": "stdout",
     "output_type": "stream",
     "text": [
      "Data columns automatically mapped as: {'TRACK_ID': 'ID', 'POSITION_X': 'X', 'POSITION_Y': 'Y', 'POSITION_T': 'T'}.\n",
      "Dataset processing completed in 0.19 seconds.\n",
      "Columns Renamed!\n"
     ]
    },
    {
     "data": {
      "application/vnd.jupyter.widget-view+json": {
       "model_id": "d6d9b188ee7e4fb1bf41d1f5b6df0bff",
       "version_major": 2,
       "version_minor": 0
      },
      "text/plain": [
       "Saving Spots:   0%|          | 0/42226 [00:00<?, ?rows/s]"
      ]
     },
     "metadata": {},
     "output_type": "display_data"
    },
    {
     "data": {
      "application/vnd.jupyter.widget-view+json": {
       "model_id": "0380ad82b25a43b6b0d6ac60656dedfc",
       "version_major": 2,
       "version_minor": 0
      },
      "text/plain": [
       "Saving Spots:   0%|          | 0/42226 [00:00<?, ?rows/s]"
      ]
     },
     "metadata": {},
     "output_type": "display_data"
    },
    {
     "name": "stdout",
     "output_type": "stream",
     "text": [
      "Create the merged_tracks_df to store track parameters\n",
      "The Unique_ID values in both dataframes match perfectly!\n"
     ]
    },
    {
     "data": {
      "application/vnd.jupyter.widget-view+json": {
       "model_id": "e9e11741d95d45fa84c9b2c45e3fee4b",
       "version_major": 2,
       "version_minor": 0
      },
      "text/plain": [
       "Saving Tracks:   0%|          | 0/2517 [00:00<?, ?rows/s]"
      ]
     },
     "metadata": {},
     "output_type": "display_data"
    }
   ],
   "source": [
    "import sys\n",
    "sys.path.append(\"/Users/esti/Documents/PROYECTOS/CELLTRACKS/CellTracksColab/\")\n",
    "import celltracks\n",
    "\n",
    "Use_test_dataset = False #@param {type:\"boolean\"}\n",
    "\n",
    "T = celltracks.TrackingData()\n",
    " \n",
    "if Use_test_dataset:\n",
    "    # Download the test dataset\n",
    "    T.DownloadTestData()\n",
    "    \n",
    "T.Folder_path = \"/Users/esti/Documents/PROYECTOS/CELLTRACKS/Tracks\"\n",
    "T.Results_Folder = \"/Users/esti/Documents/PROYECTOS/CELLTRACKS/Results\"\n",
    "T.skiprows = None\n",
    "\n",
    "print(T.Folder_path)\n",
    "print(T.Results_Folder)\n",
    "print(T.skiprows)\n",
    "print(T.usecols)\n",
    "\n",
    "T.LoadTrackingData(data_dims=\"2D\")\n",
    "T.CompileTrackingData()"
   ]
  },
  {
   "cell_type": "code",
   "execution_count": 14,
   "id": "652a9524-00c7-4028-913a-eebacd439255",
   "metadata": {},
   "outputs": [
    {
     "data": {
      "text/html": [
       "<div>\n",
       "<style scoped>\n",
       "    .dataframe tbody tr th:only-of-type {\n",
       "        vertical-align: middle;\n",
       "    }\n",
       "\n",
       "    .dataframe tbody tr th {\n",
       "        vertical-align: top;\n",
       "    }\n",
       "\n",
       "    .dataframe thead th {\n",
       "        text-align: right;\n",
       "    }\n",
       "</style>\n",
       "<table border=\"1\" class=\"dataframe\">\n",
       "  <thead>\n",
       "    <tr style=\"text-align: right;\">\n",
       "      <th></th>\n",
       "      <th>TRACK_ID</th>\n",
       "      <th>POSITION_X</th>\n",
       "      <th>POSITION_Y</th>\n",
       "      <th>POSITION_T</th>\n",
       "      <th>File_name</th>\n",
       "      <th>Condition</th>\n",
       "      <th>experiment_nb</th>\n",
       "      <th>Repeat</th>\n",
       "      <th>Unique_ID</th>\n",
       "    </tr>\n",
       "  </thead>\n",
       "  <tbody>\n",
       "    <tr>\n",
       "      <th>0</th>\n",
       "      <td>0</td>\n",
       "      <td>126.607641</td>\n",
       "      <td>205.601899</td>\n",
       "      <td>0</td>\n",
       "      <td>Exp 1 20180126 ICAM 2</td>\n",
       "      <td>ICAM</td>\n",
       "      <td>R1</td>\n",
       "      <td>1</td>\n",
       "      <td>Exp 1 20180126 ICAM 2_0</td>\n",
       "    </tr>\n",
       "    <tr>\n",
       "      <th>1</th>\n",
       "      <td>0</td>\n",
       "      <td>87.783973</td>\n",
       "      <td>209.996377</td>\n",
       "      <td>8</td>\n",
       "      <td>Exp 1 20180126 ICAM 2</td>\n",
       "      <td>ICAM</td>\n",
       "      <td>R1</td>\n",
       "      <td>1</td>\n",
       "      <td>Exp 1 20180126 ICAM 2_0</td>\n",
       "    </tr>\n",
       "    <tr>\n",
       "      <th>2</th>\n",
       "      <td>0</td>\n",
       "      <td>75.995706</td>\n",
       "      <td>232.105174</td>\n",
       "      <td>19</td>\n",
       "      <td>Exp 1 20180126 ICAM 2</td>\n",
       "      <td>ICAM</td>\n",
       "      <td>R1</td>\n",
       "      <td>1</td>\n",
       "      <td>Exp 1 20180126 ICAM 2_0</td>\n",
       "    </tr>\n",
       "    <tr>\n",
       "      <th>3</th>\n",
       "      <td>0</td>\n",
       "      <td>114.585365</td>\n",
       "      <td>207.868122</td>\n",
       "      <td>2</td>\n",
       "      <td>Exp 1 20180126 ICAM 2</td>\n",
       "      <td>ICAM</td>\n",
       "      <td>R1</td>\n",
       "      <td>1</td>\n",
       "      <td>Exp 1 20180126 ICAM 2_0</td>\n",
       "    </tr>\n",
       "    <tr>\n",
       "      <th>4</th>\n",
       "      <td>0</td>\n",
       "      <td>82.839914</td>\n",
       "      <td>210.570742</td>\n",
       "      <td>9</td>\n",
       "      <td>Exp 1 20180126 ICAM 2</td>\n",
       "      <td>ICAM</td>\n",
       "      <td>R1</td>\n",
       "      <td>1</td>\n",
       "      <td>Exp 1 20180126 ICAM 2_0</td>\n",
       "    </tr>\n",
       "    <tr>\n",
       "      <th>...</th>\n",
       "      <td>...</td>\n",
       "      <td>...</td>\n",
       "      <td>...</td>\n",
       "      <td>...</td>\n",
       "      <td>...</td>\n",
       "      <td>...</td>\n",
       "      <td>...</td>\n",
       "      <td>...</td>\n",
       "      <td>...</td>\n",
       "    </tr>\n",
       "    <tr>\n",
       "      <th>33708</th>\n",
       "      <td>219</td>\n",
       "      <td>422.149207</td>\n",
       "      <td>75.044851</td>\n",
       "      <td>19</td>\n",
       "      <td>Exp 3 20180905 VCAM 1</td>\n",
       "      <td>VCAM</td>\n",
       "      <td>R3</td>\n",
       "      <td>3</td>\n",
       "      <td>Exp 3 20180905 VCAM 1_219</td>\n",
       "    </tr>\n",
       "    <tr>\n",
       "      <th>33709</th>\n",
       "      <td>220</td>\n",
       "      <td>264.429882</td>\n",
       "      <td>240.309097</td>\n",
       "      <td>19</td>\n",
       "      <td>Exp 3 20180905 VCAM 1</td>\n",
       "      <td>VCAM</td>\n",
       "      <td>R3</td>\n",
       "      <td>3</td>\n",
       "      <td>Exp 3 20180905 VCAM 1_220</td>\n",
       "    </tr>\n",
       "    <tr>\n",
       "      <th>33710</th>\n",
       "      <td>220</td>\n",
       "      <td>265.892297</td>\n",
       "      <td>243.113919</td>\n",
       "      <td>20</td>\n",
       "      <td>Exp 3 20180905 VCAM 1</td>\n",
       "      <td>VCAM</td>\n",
       "      <td>R3</td>\n",
       "      <td>3</td>\n",
       "      <td>Exp 3 20180905 VCAM 1_220</td>\n",
       "    </tr>\n",
       "    <tr>\n",
       "      <th>33711</th>\n",
       "      <td>221</td>\n",
       "      <td>268.117971</td>\n",
       "      <td>29.577792</td>\n",
       "      <td>19</td>\n",
       "      <td>Exp 3 20180905 VCAM 1</td>\n",
       "      <td>VCAM</td>\n",
       "      <td>R3</td>\n",
       "      <td>3</td>\n",
       "      <td>Exp 3 20180905 VCAM 1_221</td>\n",
       "    </tr>\n",
       "    <tr>\n",
       "      <th>33712</th>\n",
       "      <td>221</td>\n",
       "      <td>266.804836</td>\n",
       "      <td>28.978508</td>\n",
       "      <td>20</td>\n",
       "      <td>Exp 3 20180905 VCAM 1</td>\n",
       "      <td>VCAM</td>\n",
       "      <td>R3</td>\n",
       "      <td>3</td>\n",
       "      <td>Exp 3 20180905 VCAM 1_221</td>\n",
       "    </tr>\n",
       "  </tbody>\n",
       "</table>\n",
       "<p>42226 rows × 9 columns</p>\n",
       "</div>"
      ],
      "text/plain": [
       "       TRACK_ID  POSITION_X  POSITION_Y  POSITION_T              File_name  \\\n",
       "0             0  126.607641  205.601899           0  Exp 1 20180126 ICAM 2   \n",
       "1             0   87.783973  209.996377           8  Exp 1 20180126 ICAM 2   \n",
       "2             0   75.995706  232.105174          19  Exp 1 20180126 ICAM 2   \n",
       "3             0  114.585365  207.868122           2  Exp 1 20180126 ICAM 2   \n",
       "4             0   82.839914  210.570742           9  Exp 1 20180126 ICAM 2   \n",
       "...         ...         ...         ...         ...                    ...   \n",
       "33708       219  422.149207   75.044851          19  Exp 3 20180905 VCAM 1   \n",
       "33709       220  264.429882  240.309097          19  Exp 3 20180905 VCAM 1   \n",
       "33710       220  265.892297  243.113919          20  Exp 3 20180905 VCAM 1   \n",
       "33711       221  268.117971   29.577792          19  Exp 3 20180905 VCAM 1   \n",
       "33712       221  266.804836   28.978508          20  Exp 3 20180905 VCAM 1   \n",
       "\n",
       "      Condition experiment_nb  Repeat                  Unique_ID  \n",
       "0          ICAM            R1       1    Exp 1 20180126 ICAM 2_0  \n",
       "1          ICAM            R1       1    Exp 1 20180126 ICAM 2_0  \n",
       "2          ICAM            R1       1    Exp 1 20180126 ICAM 2_0  \n",
       "3          ICAM            R1       1    Exp 1 20180126 ICAM 2_0  \n",
       "4          ICAM            R1       1    Exp 1 20180126 ICAM 2_0  \n",
       "...         ...           ...     ...                        ...  \n",
       "33708      VCAM            R3       3  Exp 3 20180905 VCAM 1_219  \n",
       "33709      VCAM            R3       3  Exp 3 20180905 VCAM 1_220  \n",
       "33710      VCAM            R3       3  Exp 3 20180905 VCAM 1_220  \n",
       "33711      VCAM            R3       3  Exp 3 20180905 VCAM 1_221  \n",
       "33712      VCAM            R3       3  Exp 3 20180905 VCAM 1_221  \n",
       "\n",
       "[42226 rows x 9 columns]"
      ]
     },
     "execution_count": 14,
     "metadata": {},
     "output_type": "execute_result"
    }
   ],
   "source": [
    "T.spots_data"
   ]
  },
  {
   "cell_type": "code",
   "execution_count": null,
   "id": "532917e3-0a3b-4497-af33-b06a666061c0",
   "metadata": {},
   "outputs": [],
   "source": []
  }
 ],
 "metadata": {
  "kernelspec": {
   "display_name": "Python 3 (ipykernel)",
   "language": "python",
   "name": "python3"
  },
  "language_info": {
   "codemirror_mode": {
    "name": "ipython",
    "version": 3
   },
   "file_extension": ".py",
   "mimetype": "text/x-python",
   "name": "python",
   "nbconvert_exporter": "python",
   "pygments_lexer": "ipython3",
   "version": "3.10.12"
  }
 },
 "nbformat": 4,
 "nbformat_minor": 5
}
