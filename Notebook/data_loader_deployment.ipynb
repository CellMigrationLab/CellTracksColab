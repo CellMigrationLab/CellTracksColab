{
 "cells": [
  {
   "cell_type": "code",
   "execution_count": 2,
   "id": "8e6d0e93-2e81-4a23-b1b5-c40841a45b54",
   "metadata": {},
   "outputs": [
    {
     "name": "stdout",
     "output_type": "stream",
     "text": [
      "/Users/esti/Documents/PROYECTOS/CELLTRACKS/Tracks\n",
      "/Users/esti/Documents/PROYECTOS/CELLTRACKS/Tracks\n",
      "None\n",
      "None\n"
     ]
    },
    {
     "data": {
      "application/vnd.jupyter.widget-view+json": {
       "model_id": "f01c4a2ca88b4e5bbd84e4795e0f2f50",
       "version_major": 2,
       "version_minor": 0
      },
      "text/plain": [
       "Processing Files:   0%|          | 0/12 [00:00<?, ?it/s]"
      ]
     },
     "metadata": {},
     "output_type": "display_data"
    },
    {
     "name": "stdout",
     "output_type": "stream",
     "text": [
      "Warning: Mismatch in total rows. Expected 253344, found 253356 in the merged dataframe.\n",
      "Tracking data loaded in memory.\n",
      "These are its column names:['ID', 'X', 'Y', 'T', 'File_name', 'Condition', 'experiment_nb', 'Repeat']\n"
     ]
    },
    {
     "data": {
      "application/vnd.jupyter.widget-view+json": {
       "model_id": "9f192e8b77aa4ee682b2fa9ea166e4b6",
       "version_major": 2,
       "version_minor": 0
      },
      "text/plain": [
       "Saving Spots:   0%|          | 0/253356 [00:00<?, ?rows/s]"
      ]
     },
     "metadata": {},
     "output_type": "display_data"
    },
    {
     "name": "stdout",
     "output_type": "stream",
     "text": [
      "Data columns automatically mapped as: {'TRACK_ID': 'ID', 'POSITION_X': 'X', 'POSITION_Y': 'Y', 'POSITION_T': 'T'}.\n"
     ]
    },
    {
     "ename": "AttributeError",
     "evalue": "'TrackingData' object has no attribute 'tracks_data'",
     "output_type": "error",
     "traceback": [
      "\u001b[0;31m---------------------------------------------------------------------------\u001b[0m",
      "\u001b[0;31mAttributeError\u001b[0m                            Traceback (most recent call last)",
      "Cell \u001b[0;32mIn[2], line 22\u001b[0m\n\u001b[1;32m     19\u001b[0m \u001b[38;5;28mprint\u001b[39m(T\u001b[38;5;241m.\u001b[39mskiprows)\n\u001b[1;32m     20\u001b[0m \u001b[38;5;28mprint\u001b[39m(T\u001b[38;5;241m.\u001b[39musecols)\n\u001b[0;32m---> 22\u001b[0m \u001b[43mT\u001b[49m\u001b[38;5;241;43m.\u001b[39;49m\u001b[43mCompileTrackingData\u001b[49m\u001b[43m(\u001b[49m\u001b[43mdata_dims\u001b[49m\u001b[38;5;241;43m=\u001b[39;49m\u001b[38;5;124;43m\"\u001b[39;49m\u001b[38;5;124;43m2D\u001b[39;49m\u001b[38;5;124;43m\"\u001b[39;49m\u001b[43m)\u001b[49m\n",
      "File \u001b[0;32m~/Documents/PROYECTOS/CELLTRACKS/celltracks/utils.py:459\u001b[0m, in \u001b[0;36mTrackingData.CompileTrackingData\u001b[0;34m(self, data_dims)\u001b[0m\n\u001b[1;32m    456\u001b[0m     \u001b[38;5;28mself\u001b[39m\u001b[38;5;241m.\u001b[39m__load_trackmate_table()\n\u001b[1;32m    458\u001b[0m \u001b[38;5;66;03m# Now, call the check function\u001b[39;00m\n\u001b[0;32m--> 459\u001b[0m check_unique_id_match(\u001b[38;5;28mself\u001b[39m\u001b[38;5;241m.\u001b[39mspots_data, \u001b[38;5;28;43mself\u001b[39;49m\u001b[38;5;241;43m.\u001b[39;49m\u001b[43mtracks_data\u001b[49m)\n\u001b[1;32m    461\u001b[0m end_time \u001b[38;5;241m=\u001b[39m time\u001b[38;5;241m.\u001b[39mtime()  \u001b[38;5;66;03m# Record end time\u001b[39;00m\n\u001b[1;32m    462\u001b[0m elapsed_time \u001b[38;5;241m=\u001b[39m end_time \u001b[38;5;241m-\u001b[39m start_time  \u001b[38;5;66;03m# Calculate elapsed time\u001b[39;00m\n",
      "\u001b[0;31mAttributeError\u001b[0m: 'TrackingData' object has no attribute 'tracks_data'"
     ]
    }
   ],
   "source": [
    "import sys\n",
    "sys.path.append(\"/Users/esti/Documents/PROYECTOS/CELLTRACKS/CellTracksColab/\")\n",
    "import celltracks\n",
    "\n",
    "Use_test_dataset = False #@param {type:\"boolean\"}\n",
    "\n",
    "T = celltracks.TrackingData()\n",
    " \n",
    "if Use_test_dataset:\n",
    "    # Download the test dataset\n",
    "    T.DownloadTestData()\n",
    "    \n",
    "T.Folder_path = \"/Users/esti/Documents/PROYECTOS/CELLTRACKS/Tracks\"\n",
    "T.Results_Folder = \"/Users/esti/Documents/PROYECTOS/CELLTRACKS/Tracks\"\n",
    "T.skiprows = None\n",
    "\n",
    "print(T.Folder_path)\n",
    "print(T.Results_Folder)\n",
    "print(T.skiprows)\n",
    "print(T.usecols)\n",
    "\n",
    "T.CompileTrackingData(data_dims=\"2D\")\n"
   ]
  },
  {
   "cell_type": "code",
   "execution_count": 4,
   "id": "2d18122d-962d-4e03-955d-c7ec79447f2b",
   "metadata": {},
   "outputs": [
    {
     "data": {
      "text/html": [
       "<div>\n",
       "<style scoped>\n",
       "    .dataframe tbody tr th:only-of-type {\n",
       "        vertical-align: middle;\n",
       "    }\n",
       "\n",
       "    .dataframe tbody tr th {\n",
       "        vertical-align: top;\n",
       "    }\n",
       "\n",
       "    .dataframe thead th {\n",
       "        text-align: right;\n",
       "    }\n",
       "</style>\n",
       "<table border=\"1\" class=\"dataframe\">\n",
       "  <thead>\n",
       "    <tr style=\"text-align: right;\">\n",
       "      <th></th>\n",
       "      <th>ID</th>\n",
       "      <th>X</th>\n",
       "      <th>Y</th>\n",
       "      <th>T</th>\n",
       "      <th>File_name</th>\n",
       "      <th>Condition</th>\n",
       "      <th>experiment_nb</th>\n",
       "      <th>Repeat</th>\n",
       "    </tr>\n",
       "  </thead>\n",
       "  <tbody>\n",
       "    <tr>\n",
       "      <th>0</th>\n",
       "      <td>0</td>\n",
       "      <td>126.607641</td>\n",
       "      <td>205.601899</td>\n",
       "      <td>0</td>\n",
       "      <td>merged_Spots</td>\n",
       "      <td>CELLTRACKS</td>\n",
       "      <td>Tracks</td>\n",
       "      <td>1</td>\n",
       "    </tr>\n",
       "    <tr>\n",
       "      <th>1</th>\n",
       "      <td>0</td>\n",
       "      <td>87.783973</td>\n",
       "      <td>209.996377</td>\n",
       "      <td>8</td>\n",
       "      <td>merged_Spots</td>\n",
       "      <td>CELLTRACKS</td>\n",
       "      <td>Tracks</td>\n",
       "      <td>1</td>\n",
       "    </tr>\n",
       "    <tr>\n",
       "      <th>2</th>\n",
       "      <td>0</td>\n",
       "      <td>75.995706</td>\n",
       "      <td>232.105174</td>\n",
       "      <td>19</td>\n",
       "      <td>merged_Spots</td>\n",
       "      <td>CELLTRACKS</td>\n",
       "      <td>Tracks</td>\n",
       "      <td>1</td>\n",
       "    </tr>\n",
       "    <tr>\n",
       "      <th>3</th>\n",
       "      <td>0</td>\n",
       "      <td>114.585365</td>\n",
       "      <td>207.868122</td>\n",
       "      <td>2</td>\n",
       "      <td>merged_Spots</td>\n",
       "      <td>CELLTRACKS</td>\n",
       "      <td>Tracks</td>\n",
       "      <td>1</td>\n",
       "    </tr>\n",
       "    <tr>\n",
       "      <th>4</th>\n",
       "      <td>0</td>\n",
       "      <td>82.839914</td>\n",
       "      <td>210.570742</td>\n",
       "      <td>9</td>\n",
       "      <td>merged_Spots</td>\n",
       "      <td>CELLTRACKS</td>\n",
       "      <td>Tracks</td>\n",
       "      <td>1</td>\n",
       "    </tr>\n",
       "    <tr>\n",
       "      <th>...</th>\n",
       "      <td>...</td>\n",
       "      <td>...</td>\n",
       "      <td>...</td>\n",
       "      <td>...</td>\n",
       "      <td>...</td>\n",
       "      <td>...</td>\n",
       "      <td>...</td>\n",
       "      <td>...</td>\n",
       "    </tr>\n",
       "    <tr>\n",
       "      <th>244838</th>\n",
       "      <td>219</td>\n",
       "      <td>422.149207</td>\n",
       "      <td>75.044851</td>\n",
       "      <td>19</td>\n",
       "      <td>Exp 3 20180905 VCAM 1</td>\n",
       "      <td>VCAM</td>\n",
       "      <td>R3</td>\n",
       "      <td>3</td>\n",
       "    </tr>\n",
       "    <tr>\n",
       "      <th>244839</th>\n",
       "      <td>220</td>\n",
       "      <td>264.429882</td>\n",
       "      <td>240.309097</td>\n",
       "      <td>19</td>\n",
       "      <td>Exp 3 20180905 VCAM 1</td>\n",
       "      <td>VCAM</td>\n",
       "      <td>R3</td>\n",
       "      <td>3</td>\n",
       "    </tr>\n",
       "    <tr>\n",
       "      <th>244840</th>\n",
       "      <td>220</td>\n",
       "      <td>265.892297</td>\n",
       "      <td>243.113919</td>\n",
       "      <td>20</td>\n",
       "      <td>Exp 3 20180905 VCAM 1</td>\n",
       "      <td>VCAM</td>\n",
       "      <td>R3</td>\n",
       "      <td>3</td>\n",
       "    </tr>\n",
       "    <tr>\n",
       "      <th>244841</th>\n",
       "      <td>221</td>\n",
       "      <td>268.117971</td>\n",
       "      <td>29.577792</td>\n",
       "      <td>19</td>\n",
       "      <td>Exp 3 20180905 VCAM 1</td>\n",
       "      <td>VCAM</td>\n",
       "      <td>R3</td>\n",
       "      <td>3</td>\n",
       "    </tr>\n",
       "    <tr>\n",
       "      <th>244842</th>\n",
       "      <td>221</td>\n",
       "      <td>266.804836</td>\n",
       "      <td>28.978508</td>\n",
       "      <td>20</td>\n",
       "      <td>Exp 3 20180905 VCAM 1</td>\n",
       "      <td>VCAM</td>\n",
       "      <td>R3</td>\n",
       "      <td>3</td>\n",
       "    </tr>\n",
       "  </tbody>\n",
       "</table>\n",
       "<p>253356 rows × 8 columns</p>\n",
       "</div>"
      ],
      "text/plain": [
       "         ID           X           Y   T              File_name   Condition  \\\n",
       "0         0  126.607641  205.601899   0           merged_Spots  CELLTRACKS   \n",
       "1         0   87.783973  209.996377   8           merged_Spots  CELLTRACKS   \n",
       "2         0   75.995706  232.105174  19           merged_Spots  CELLTRACKS   \n",
       "3         0  114.585365  207.868122   2           merged_Spots  CELLTRACKS   \n",
       "4         0   82.839914  210.570742   9           merged_Spots  CELLTRACKS   \n",
       "...     ...         ...         ...  ..                    ...         ...   \n",
       "244838  219  422.149207   75.044851  19  Exp 3 20180905 VCAM 1        VCAM   \n",
       "244839  220  264.429882  240.309097  19  Exp 3 20180905 VCAM 1        VCAM   \n",
       "244840  220  265.892297  243.113919  20  Exp 3 20180905 VCAM 1        VCAM   \n",
       "244841  221  268.117971   29.577792  19  Exp 3 20180905 VCAM 1        VCAM   \n",
       "244842  221  266.804836   28.978508  20  Exp 3 20180905 VCAM 1        VCAM   \n",
       "\n",
       "       experiment_nb  Repeat  \n",
       "0             Tracks       1  \n",
       "1             Tracks       1  \n",
       "2             Tracks       1  \n",
       "3             Tracks       1  \n",
       "4             Tracks       1  \n",
       "...              ...     ...  \n",
       "244838            R3       3  \n",
       "244839            R3       3  \n",
       "244840            R3       3  \n",
       "244841            R3       3  \n",
       "244842            R3       3  \n",
       "\n",
       "[253356 rows x 8 columns]"
      ]
     },
     "execution_count": 4,
     "metadata": {},
     "output_type": "execute_result"
    }
   ],
   "source": [
    "T.spots_data"
   ]
  }
 ],
 "metadata": {
  "kernelspec": {
   "display_name": "Python 3 (ipykernel)",
   "language": "python",
   "name": "python3"
  },
  "language_info": {
   "codemirror_mode": {
    "name": "ipython",
    "version": 3
   },
   "file_extension": ".py",
   "mimetype": "text/x-python",
   "name": "python",
   "nbconvert_exporter": "python",
   "pygments_lexer": "ipython3",
   "version": "3.10.12"
  }
 },
 "nbformat": 4,
 "nbformat_minor": 5
}
